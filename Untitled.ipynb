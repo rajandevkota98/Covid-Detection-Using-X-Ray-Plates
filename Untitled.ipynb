{
 "cells": [
  {
   "cell_type": "code",
   "execution_count": 1,
   "id": "48d909b1",
   "metadata": {},
   "outputs": [
    {
     "name": "stdout",
     "output_type": "stream",
     "text": [
      "\u001b[0m\u001b[01;34martifact\u001b[0m/     \u001b[01;34mdata\u001b[0m/    main.py    requirements.txt  test2.py  Untitled.ipynb\r\n",
      "\u001b[01;34mbase_models\u001b[0m/  dvc.yml  \u001b[01;34mparams\u001b[0m/    s3_setup.py       test3.py  \u001b[01;34mxray\u001b[0m/\r\n",
      "\u001b[01;34mconfig\u001b[0m/       \u001b[01;34mlogs\u001b[0m/    README.md  setup.py          test.py   \u001b[01;34mxray.egg-info\u001b[0m/\r\n"
     ]
    }
   ],
   "source": [
    "ls"
   ]
  },
  {
   "cell_type": "code",
   "execution_count": 13,
   "id": "530e112e",
   "metadata": {},
   "outputs": [],
   "source": [
    "class TargetMapping:\n",
    "    def __init__(self):\n",
    "        self.Covid = 0\n",
    "        self.Normal = 1\n",
    "    def to_dict(self):\n",
    "        return self.__dict__\n",
    "    def reverse_mapping(self):\n",
    "        mapping_response = self.to_dict()\n",
    "        return dict(zip(mapping_response.values(), mapping_response.keys()))\n",
    "    \n",
    "    \n",
    "    "
   ]
  },
  {
   "cell_type": "code",
   "execution_count": 14,
   "id": "dea35104",
   "metadata": {},
   "outputs": [],
   "source": [
    "x = TargetMapping()"
   ]
  },
  {
   "cell_type": "code",
   "execution_count": 15,
   "id": "f21b0c56",
   "metadata": {},
   "outputs": [
    {
     "data": {
      "text/plain": [
       "{'Covid': 0, 'Normal': 1}"
      ]
     },
     "execution_count": 15,
     "metadata": {},
     "output_type": "execute_result"
    }
   ],
   "source": [
    "x.to_dict()"
   ]
  },
  {
   "cell_type": "code",
   "execution_count": 18,
   "id": "5241b4f1",
   "metadata": {},
   "outputs": [
    {
     "data": {
      "text/plain": [
       "'Covid'"
      ]
     },
     "execution_count": 18,
     "metadata": {},
     "output_type": "execute_result"
    }
   ],
   "source": [
    "x.reverse_mapping()[pred]"
   ]
  },
  {
   "cell_type": "code",
   "execution_count": 17,
   "id": "14826aa8",
   "metadata": {},
   "outputs": [],
   "source": [
    "pred = 0"
   ]
  },
  {
   "cell_type": "code",
   "execution_count": null,
   "id": "717bb82d",
   "metadata": {},
   "outputs": [],
   "source": []
  }
 ],
 "metadata": {
  "kernelspec": {
   "display_name": "Python 3 (ipykernel)",
   "language": "python",
   "name": "python3"
  },
  "language_info": {
   "codemirror_mode": {
    "name": "ipython",
    "version": 3
   },
   "file_extension": ".py",
   "mimetype": "text/x-python",
   "name": "python",
   "nbconvert_exporter": "python",
   "pygments_lexer": "ipython3",
   "version": "3.10.9"
  }
 },
 "nbformat": 4,
 "nbformat_minor": 5
}
