{
 "cells": [
  {
   "cell_type": "code",
   "execution_count": 1,
   "id": "cb968b83-13a6-4cba-bbdb-0919c8884074",
   "metadata": {},
   "outputs": [
    {
     "name": "stderr",
     "output_type": "stream",
     "text": [
      "2023-08-01 09:00:11.682395: I tensorflow/core/util/port.cc:110] oneDNN custom operations are on. You may see slightly different numerical results due to floating-point round-off errors from different computation orders. To turn them off, set the environment variable `TF_ENABLE_ONEDNN_OPTS=0`.\n",
      "2023-08-01 09:00:11.725349: I tensorflow/tsl/cuda/cudart_stub.cc:28] Could not find cuda drivers on your machine, GPU will not be used.\n",
      "2023-08-01 09:00:12.113886: I tensorflow/tsl/cuda/cudart_stub.cc:28] Could not find cuda drivers on your machine, GPU will not be used.\n",
      "2023-08-01 09:00:12.116356: I tensorflow/core/platform/cpu_feature_guard.cc:182] This TensorFlow binary is optimized to use available CPU instructions in performance-critical operations.\n",
      "To enable the following instructions: AVX2 AVX512F AVX512_VNNI FMA, in other operations, rebuild TensorFlow with the appropriate compiler flags.\n",
      "2023-08-01 09:00:14.197572: W tensorflow/compiler/tf2tensorrt/utils/py_utils.cc:38] TF-TRT Warning: Could not find TensorRT\n"
     ]
    }
   ],
   "source": [
    "import tensorflow as tf"
   ]
  },
  {
   "cell_type": "code",
   "execution_count": 2,
   "id": "b1a6d4e4-2578-43b6-91b0-8129eac759fb",
   "metadata": {},
   "outputs": [
    {
     "name": "stderr",
     "output_type": "stream",
     "text": [
      "2023-08-01 09:01:18.373837: I tensorflow/compiler/xla/stream_executor/cuda/cuda_gpu_executor.cc:995] successful NUMA node read from SysFS had negative value (-1), but there must be at least one NUMA node, so returning NUMA node zero. See more at https://github.com/torvalds/linux/blob/v6.0/Documentation/ABI/testing/sysfs-bus-pci#L344-L355\n",
      "2023-08-01 09:01:18.375156: W tensorflow/core/common_runtime/gpu/gpu_device.cc:1960] Cannot dlopen some GPU libraries. Please make sure the missing libraries mentioned above are installed properly if you would like to use GPU. Follow the guide at https://www.tensorflow.org/install/gpu for how to download and setup the required libraries for your platform.\n",
      "Skipping registering GPU devices...\n"
     ]
    }
   ],
   "source": [
    "model = tf.keras.models.load_model('/home/rajan/x-ray-disease-detection/artifact/2023_07_31_21_14_12/model_trainer/trained_model.h5')"
   ]
  },
  {
   "cell_type": "code",
   "execution_count": 5,
   "id": "7d17e389-9675-4cbf-8dd2-7a1f89895c7b",
   "metadata": {},
   "outputs": [
    {
     "name": "stdout",
     "output_type": "stream",
     "text": [
      "Collecting opencv-python\n",
      "  Obtaining dependency information for opencv-python from https://files.pythonhosted.org/packages/34/7c/8a5043f362b0a55f07812a0db3f86092cdbd0fe41b933d7bc6fce3ab6c15/opencv_python-4.8.0.74-cp37-abi3-manylinux_2_17_x86_64.manylinux2014_x86_64.whl.metadata\n",
      "  Downloading opencv_python-4.8.0.74-cp37-abi3-manylinux_2_17_x86_64.manylinux2014_x86_64.whl.metadata (19 kB)\n",
      "Requirement already satisfied: numpy>=1.17.0 in /home/rajan/anaconda3/envs/x-ray/lib/python3.8/site-packages (from opencv-python) (1.24.3)\n",
      "Using cached opencv_python-4.8.0.74-cp37-abi3-manylinux_2_17_x86_64.manylinux2014_x86_64.whl (61.7 MB)\n",
      "Installing collected packages: opencv-python\n",
      "Successfully installed opencv-python-4.8.0.74\n",
      "Note: you may need to restart the kernel to use updated packages.\n"
     ]
    }
   ],
   "source": [
    "pip install opencv-python"
   ]
  },
  {
   "cell_type": "code",
   "execution_count": 6,
   "id": "41800bc2-1970-4880-8899-1cd883412c4b",
   "metadata": {},
   "outputs": [],
   "source": [
    "import cv2\n"
   ]
  },
  {
   "cell_type": "code",
   "execution_count": 7,
   "id": "ce5e4cbd-4b81-4469-987d-c0be119d8d82",
   "metadata": {},
   "outputs": [],
   "source": [
    "import numpy as np\n"
   ]
  },
  {
   "cell_type": "code",
   "execution_count": 9,
   "id": "e3ec6f96-4bad-4315-9a97-b27b5f8d7d28",
   "metadata": {},
   "outputs": [],
   "source": [
    "def preprocess_image(image_path, target_size):\n",
    "    img = cv2.imread(image_path)\n",
    "    img = cv2.resize(img, target_size)\n",
    "    img = img.astype('float32') / 255.0\n",
    "    img = np.expand_dims(img, axis=0)  \n",
    "    return img"
   ]
  },
  {
   "cell_type": "code",
   "execution_count": 10,
   "id": "b75e2ae2-4e20-4330-b1ca-50e9e410ce30",
   "metadata": {},
   "outputs": [],
   "source": [
    "img_path = '/home/rajan/x-ray-disease-detection/data/Dataset/Train/Covid/1-s2.0-S0140673620303706-fx1_lrg.jpg'"
   ]
  },
  {
   "cell_type": "code",
   "execution_count": 16,
   "id": "79be70a3-0c1b-4bba-a3ca-dc027b885b55",
   "metadata": {},
   "outputs": [],
   "source": [
    "preprocessed_img = preprocess_image(img_path, target_size =[224,224])"
   ]
  },
  {
   "cell_type": "code",
   "execution_count": 17,
   "id": "d2cf566a-48c3-4a5b-bc8d-cb7d9ba10905",
   "metadata": {},
   "outputs": [
    {
     "name": "stdout",
     "output_type": "stream",
     "text": [
      "1/1 [==============================] - 1s 679ms/step\n"
     ]
    }
   ],
   "source": [
    "prediction = model.predict(preprocessed_img)\n"
   ]
  },
  {
   "cell_type": "code",
   "execution_count": 19,
   "id": "5e93d071-1019-40dd-987e-53a18cfce3b6",
   "metadata": {},
   "outputs": [
    {
     "data": {
      "text/plain": [
       "array([[0.01290887]], dtype=float32)"
      ]
     },
     "execution_count": 19,
     "metadata": {},
     "output_type": "execute_result"
    }
   ],
   "source": [
    "prediction "
   ]
  },
  {
   "cell_type": "code",
   "execution_count": 20,
   "id": "1aed1d62-52c3-4cdf-8bea-39c5925c1be5",
   "metadata": {},
   "outputs": [],
   "source": [
    "class_index = 0 if prediction[0][0] < 0.5 else 1\n"
   ]
  },
  {
   "cell_type": "code",
   "execution_count": 21,
   "id": "0edf217b-89d1-4378-9608-a4948c970a19",
   "metadata": {},
   "outputs": [
    {
     "data": {
      "text/plain": [
       "0"
      ]
     },
     "execution_count": 21,
     "metadata": {},
     "output_type": "execute_result"
    }
   ],
   "source": [
    "class_index"
   ]
  },
  {
   "cell_type": "code",
   "execution_count": 22,
   "id": "580b6d8c-2758-48a4-96b2-d1dc2819dc0f",
   "metadata": {},
   "outputs": [],
   "source": [
    "from xray.cnn.model.mapping import TargetMapping"
   ]
  },
  {
   "cell_type": "code",
   "execution_count": 24,
   "id": "e7b3a135-cd36-4c40-ad68-ee2d44ac1688",
   "metadata": {},
   "outputs": [],
   "source": [
    "target_map = TargetMapping()"
   ]
  },
  {
   "cell_type": "code",
   "execution_count": 25,
   "id": "cdf6cf6e-60b4-4a13-b155-4ce643c19bcd",
   "metadata": {},
   "outputs": [],
   "source": [
    "predicted = target_map.reverse_mapping()[class_index]"
   ]
  },
  {
   "cell_type": "code",
   "execution_count": 26,
   "id": "bfeab451-559e-44f2-a879-5c60b54ebbad",
   "metadata": {},
   "outputs": [
    {
     "name": "stdout",
     "output_type": "stream",
     "text": [
      "Covid\n"
     ]
    }
   ],
   "source": [
    "print(predicted)"
   ]
  },
  {
   "cell_type": "code",
   "execution_count": 38,
   "id": "7577824c-c387-49ed-8551-7608dea63802",
   "metadata": {},
   "outputs": [
    {
     "name": "stdout",
     "output_type": "stream",
     "text": [
      "Processing image: prediction/test/IM-0140-0001.jpeg\n",
      "1/1 [==============================] - 0s 450ms/step\n",
      "target_map content: <xray.cnn.model.mapping.TargetMapping object at 0x7f0cb7fe00a0>\n",
      "Processing image: prediction/test/1.CXRCTThoraximagesofCOVID-19fromSingapore.pdf-000-fig1b.png\n",
      "1/1 [==============================] - 0s 235ms/step\n",
      "target_map content: <xray.cnn.model.mapping.TargetMapping object at 0x7f0cb7fe00a0>\n",
      "Processing image: prediction/test/IM-0151-0001.jpeg\n",
      "1/1 [==============================] - 0s 237ms/step\n",
      "target_map content: <xray.cnn.model.mapping.TargetMapping object at 0x7f0cb7fe00a0>\n",
      "Processing image: prediction/test/1.CXRCTThoraximagesofCOVID-19fromSingapore.pdf-001-fig2a.png\n",
      "1/1 [==============================] - 0s 246ms/step\n",
      "target_map content: <xray.cnn.model.mapping.TargetMapping object at 0x7f0cb7fe00a0>\n",
      "Processing image: prediction/test/IM-0158-0001.jpeg\n",
      "1/1 [==============================] - 0s 243ms/step\n",
      "target_map content: <xray.cnn.model.mapping.TargetMapping object at 0x7f0cb7fe00a0>\n",
      "Processing image: prediction/test/1.CXRCTThoraximagesofCOVID-19fromSingapore.pdf-000-fig1a.png\n",
      "1/1 [==============================] - 0s 240ms/step\n",
      "target_map content: <xray.cnn.model.mapping.TargetMapping object at 0x7f0cb7fe00a0>\n"
     ]
    }
   ],
   "source": [
    "import os,sys\n",
    "from xray.exception import XrayException\n",
    "from xray.logger import logging\n",
    "from xray.cnn.model.Model_Resolver import ModelResolver\n",
    "import pandas as pd\n",
    "import tensorflow as tf\n",
    "from datetime import datetime\n",
    "from zipfile import ZipFile\n",
    "import cv2\n",
    "import shutil\n",
    "from xray.constants.training_pipeline import PARAMS_FILE_PATH\n",
    "from xray.utils.common import read_yaml_file, write_yaml_file\n",
    "from xray.constants.training_pipeline import SAVED_MODEL_DIR\n",
    "import numpy as np\n",
    "PREDICTION_DIR = 'prediction'\n",
    "PREDICTED_DIR = 'predicted'\n",
    "os.makedirs(PREDICTION_DIR, exist_ok=True)\n",
    "\n",
    "from xray.cnn.model.mapping import TargetMapping\n",
    "target_size = read_yaml_file(PARAMS_FILE_PATH)[\"TARGET_SIZE\"]\n",
    "target_map = TargetMapping()\n",
    "\n",
    "def preprocess_image(image_path, target_size = target_size):\n",
    "    img = cv2.imread(image_path)\n",
    "    img = cv2.imread(image_path)\n",
    "    if img is None:\n",
    "        raise XrayException(f\"Error: Unable to read image at '{image_path}'\")\n",
    "    img = cv2.resize(img, target_size)\n",
    "    img = img.astype('float32') / 255.0\n",
    "    img = np.expand_dims(img, axis=0)  \n",
    "    return img\n",
    "\n",
    "\n",
    "\n",
    "\n",
    "def bulk_prediction(zip_file, save_path=PREDICTION_DIR):\n",
    "    with ZipFile(zip_file, 'r') as file:\n",
    "        file.extractall(save_path)\n",
    "\n",
    "    # Assuming the images are directly inside the extracted directory\n",
    "    file_path = os.path.join(save_path, os.listdir(save_path)[0])\n",
    "\n",
    "    # Load the pre-trained model\n",
    "    model_resolver = ModelResolver(model_dir=SAVED_MODEL_DIR)\n",
    "    best_model_path = model_resolver.SOTA_model()\n",
    "    model = tf.keras.models.load_model(best_model_path)\n",
    "\n",
    "    for image in os.listdir(file_path):\n",
    "        image_path = os.path.join(file_path, image)\n",
    "        print(f\"Processing image: {image_path}\")\n",
    "        try:\n",
    "            img = preprocess_image(image_path, target_size)\n",
    "            prediction = model.predict(img)\n",
    "            class_index = 0 if prediction[0][0] < 0.5 else 1\n",
    "\n",
    "            # Check the content of target_map for debugging\n",
    "            print(\"target_map content:\", target_map)\n",
    "\n",
    "            # Make sure target_map has the necessary mapping for class_index\n",
    "            if class_index not in target_map.reverse_mapping():\n",
    "                raise XrayException(f\"Error: Class index {class_index} not found in target_map.\")\n",
    "\n",
    "            predicted_class = target_map.reverse_mapping()[class_index]\n",
    "\n",
    "            # Create the respective directories for 'normal' and 'covid'\n",
    "            predicted_file_path = os.path.join(PREDICTED_DIR, predicted_class)\n",
    "            os.makedirs(predicted_file_path, exist_ok=True)\n",
    "            shutil.copy(image_path, predicted_file_path)\n",
    "        except XrayException as e:\n",
    "            print(f\"Error: {str(e)}\")\n",
    "        except Exception as e:\n",
    "            print(f\"Error occurred while processing image: {image_path}\\n{str(e)}\")\n",
    "\n",
    "# Call the bulk_prediction function with the 'test.zip' file\n",
    "bulk_prediction('test.zip')\n",
    "\n",
    "\n",
    "\n",
    "\n",
    "    \n"
   ]
  },
  {
   "cell_type": "code",
   "execution_count": null,
   "id": "b0d3596f-3932-44c4-b94c-80b32006b66c",
   "metadata": {},
   "outputs": [],
   "source": [
    "import os,sys\n",
    "from xray.exception import XrayException\n",
    "from xray.logger import logging\n",
    "from xray.cnn.model.Model_Resolver import ModelResolver\n",
    "import pandas as pd\n",
    "import tensorflow as tf\n",
    "from datetime import datetime\n",
    "from zipfile import ZipFile\n",
    "import cv2\n",
    "import shutil\n",
    "from xray.constants.training_pipeline import PARAMS_FILE_PATH\n",
    "from xray.utils.common import read_yaml_file, write_yaml_file\n",
    "from xray.constants.training_pipeline import SAVED_MODEL_DIR\n",
    "import numpy as np\n",
    "PREDICTION_DIR = 'prediction'\n",
    "PREDICTED_DIR = 'predicted'\n",
    "os.makedirs(PREDICTION_DIR, exist_ok=True)\n",
    "\n",
    "from xray.cnn.model.mapping import TargetMapping\n",
    "target_size = read_yaml_file(PARAMS_FILE_PATH)[\"TARGET_SIZE\"]\n",
    "target_map = TargetMapping()\n",
    "\n",
    "def preprocess_image(image_path, target_size = target_size):\n",
    "    img = cv2.imread(image_path)\n",
    "    img = cv2.imread(image_path)\n",
    "    if img is None:\n",
    "        raise Exception(f\"Error: Unable to read image at '{image_path}'\")\n",
    "    img = cv2.resize(img, target_size)\n",
    "    img = img.astype('float32') / 255.0\n",
    "    img = np.expand_dims(img, axis=0)  \n",
    "    return img\n",
    "\n",
    "\n",
    "\n",
    "\n",
    "def bulk_prediction(zip_file, save_path=PREDICTION_DIR):\n",
    "    with ZipFile(zip_file, 'r') as file:\n",
    "        file.extractall(save_path)\n",
    "    logging.info('Getting the Test file location')\n",
    "    file_path = os.path.join(save_path, os.listdir(save_path)[0])\n",
    "\n",
    "    logging.info('Loading the model')\n",
    "    model_resolver = ModelResolver(model_dir=SAVED_MODEL_DIR)\n",
    "    best_model_path = model_resolver.SOTA_model()\n",
    "    model = tf.keras.models.load_model(best_model_path)\n",
    "\n",
    "    for image in os.listdir(file_path):\n",
    "        image_path = os.path.join(file_path, image)\n",
    "        print(f\"Processing image: {image_path}\")\n",
    "        try:\n",
    "            img = preprocess_image(image_path, target_size)\n",
    "            prediction = model.predict(img)\n",
    "            class_index = 0 if prediction[0][0] < 0.5 else 1\n",
    "            logging.info('Prediction')\n",
    "            predicted_class = target_map.reverse_mapping()[class_index]\n",
    "            predicted_file_path = os.path.join(PREDICTED_DIR, predicted_class)\n",
    "            os.makedirs(predicted_file_path, exist_ok=True)\n",
    "            shutil.copy(image_path, predicted_file_path)\n",
    "        except Exception as e:\n",
    "            raise XrayException(e,sys)\n",
    "    \n",
    "    shutil.rmtree(file_path)\n",
    "\n",
    "\n",
    "\n",
    "\n",
    "    \n"
   ]
  }
 ],
 "metadata": {
  "kernelspec": {
   "display_name": "Python 3 (ipykernel)",
   "language": "python",
   "name": "python3"
  },
  "language_info": {
   "codemirror_mode": {
    "name": "ipython",
    "version": 3
   },
   "file_extension": ".py",
   "mimetype": "text/x-python",
   "name": "python",
   "nbconvert_exporter": "python",
   "pygments_lexer": "ipython3",
   "version": "3.8.17"
  }
 },
 "nbformat": 4,
 "nbformat_minor": 5
}
